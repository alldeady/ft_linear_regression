{
 "metadata": {
  "language_info": {
   "codemirror_mode": {
    "name": "ipython",
    "version": 3
   },
   "file_extension": ".py",
   "mimetype": "text/x-python",
   "name": "python",
   "nbconvert_exporter": "python",
   "pygments_lexer": "ipython3",
   "version": "3.8.5"
  },
  "orig_nbformat": 2,
  "kernelspec": {
   "name": "python385jvsc74a57bd02171b9d4b33f2d0fcafee487e8a6f0b275c174cafa24ed5edcb0861589226074",
   "display_name": "Python 3.8.5 64-bit ('base': conda)"
  },
  "metadata": {
   "interpreter": {
    "hash": "2171b9d4b33f2d0fcafee487e8a6f0b275c174cafa24ed5edcb0861589226074"
   }
  }
 },
 "nbformat": 4,
 "nbformat_minor": 2,
 "cells": [
  {
   "source": [
    "## Train model"
   ],
   "cell_type": "markdown",
   "metadata": {}
  },
  {
   "cell_type": "code",
   "execution_count": 1,
   "metadata": {},
   "outputs": [],
   "source": [
    "from csv import reader\n",
    "\n",
    "def load_csv() -> list:\n",
    "    dataset = []\n",
    "    with open('data.csv', 'r') as file:\n",
    "        csv_reader = reader(file)\n",
    "        next(csv_reader)\n",
    "        for row in csv_reader:\n",
    "            dataset.append([float(row[0]), float(row[1])])\n",
    "    return dataset\n",
    "\n",
    "def normalize_dataset(dataset) -> list:\n",
    "    minmax = []\n",
    "    for i in range(len(dataset[0])):\n",
    "        col_values = [row[i] for row in dataset]\n",
    "        value_min = min(col_values)\n",
    "        value_max = max(col_values)\n",
    "        minmax.append([value_min, value_max])\n",
    "    for row in dataset:\n",
    "        for i in range(len(row)):\n",
    "            row[i] = (row[i] - minmax[i][0]) / (minmax[i][1] - minmax[i][0])\n",
    "    return minmax"
   ]
  },
  {
   "cell_type": "code",
   "execution_count": 2,
   "metadata": {
    "tags": []
   },
   "outputs": [],
   "source": [
    "def coefficients(dataset, l_rate, n_epoch) -> list:\n",
    "    theta = [0.0, 0.0]\n",
    "    sum_error = 0\n",
    "    for epoch in range(n_epoch):\n",
    "        stop_error = sum_error\n",
    "        sum_error = 0\n",
    "        for row in dataset:\n",
    "            pred_y = theta[0] + theta[1] * row[0]\n",
    "            error = pred_y - row[1]\n",
    "            sum_error += error**2\n",
    "            theta[0] -= l_rate * error\n",
    "            theta[1] -= l_rate * error * row[0]\n",
    "        # print('>epoch=%d, lrate=%.3f, error=%.3f, stop_error=%.3f' % (epoch, l_rate, sum_error, stop_error))\n",
    "        if epoch != 0 and round((stop_error - sum_error), 8) < 0.00000001:\n",
    "            return theta\n",
    "    return theta\n",
    "\n",
    "def scaler(theta) -> list:\n",
    "    theta1 = theta[1] * (minmax[1][1] - minmax[1][0]) / (minmax[0][1] - minmax[0][0])\n",
    "    theta0 = theta1 * (1 - minmax[0][0]) + (minmax[1][1] - minmax[1][0]) * theta[0] + minmax[1][0]\n",
    "    return [theta0, theta1]"
   ]
  },
  {
   "cell_type": "code",
   "execution_count": 3,
   "metadata": {
    "tags": []
   },
   "outputs": [
    {
     "output_type": "stream",
     "name": "stdout",
     "text": [
      "Coefficients: theta0 = 8519.755\n              theta1 = -0.021\n"
     ]
    }
   ],
   "source": [
    "l_rate = 0.01\n",
    "n_epoch = 5000\n",
    "dataset = load_csv()\n",
    "minmax = normalize_dataset(dataset)\n",
    "theta0, theta1 = scaler(coefficients(dataset, l_rate, n_epoch))\n",
    "print('Coefficients: theta0 = %.3f\\n              theta1 = %.3f' % (theta0, theta1))"
   ]
  },
  {
   "source": [
    "## Set coefficents to zero"
   ],
   "cell_type": "markdown",
   "metadata": {}
  },
  {
   "cell_type": "code",
   "execution_count": 5,
   "metadata": {},
   "outputs": [],
   "source": [
    "theta0, theta1 = 0, 0\n",
    "print('Coefficients: theta0 = %.f\\n              theta1 = %.f' % (theta0, theta1))"
   ]
  },
  {
   "source": [
    "## Predict from input"
   ],
   "cell_type": "markdown",
   "metadata": {}
  },
  {
   "cell_type": "code",
   "execution_count": 4,
   "metadata": {
    "tags": []
   },
   "outputs": [
    {
     "output_type": "stream",
     "name": "stdout",
     "text": [
      "Mileage = 150000\nPrice prediction = 5309.582\n"
     ]
    }
   ],
   "source": [
    "x_pred = int(input('input km for predict price: '))\n",
    "y_pred = theta0 + theta1 * x_pred\n",
    "\n",
    "print('Mileage = %.13g\\nPrice prediction = %.3f' % (x_pred, y_pred))\n",
    "if x_pred < 0 or y_pred < 0:\n",
    "    print(\"Sry, my answer is lie\")"
   ]
  },
  {
   "source": [
    "## Predict price from data.csv"
   ],
   "cell_type": "markdown",
   "metadata": {}
  },
  {
   "cell_type": "code",
   "execution_count": 5,
   "metadata": {},
   "outputs": [
    {
     "output_type": "stream",
     "name": "stdout",
     "text": [
      "Km = 240000, Price = 3650.000, Price prediction = 3383.478, diff = -266.522\nKm = 139800, Price = 3800.000, Price prediction = 5527.873, diff = 1727.873\nKm = 150500, Price = 4400.000, Price prediction = 5298.881, diff = 898.881\nKm = 185530, Price = 4450.000, Price prediction = 4549.199, diff = 99.199\nKm = 176000, Price = 5250.000, Price prediction = 4753.152, diff = -496.848\nKm = 114800, Price = 5350.000, Price prediction = 6062.902, diff = 712.902\nKm = 166800, Price = 5800.000, Price prediction = 4950.042, diff = -849.958\nKm = 89000, Price = 5990.000, Price prediction = 6615.052, diff = 625.052\nKm = 144500, Price = 5999.000, Price prediction = 5427.288, diff = -571.712\nKm = 84000, Price = 6200.000, Price prediction = 6722.058, diff = 522.058\nKm = 82029, Price = 6390.000, Price prediction = 6764.239, diff = 374.239\nKm = 63060, Price = 6390.000, Price prediction = 7170.198, diff = 780.198\nKm = 74000, Price = 6600.000, Price prediction = 6936.069, diff = 336.069\nKm = 97500, Price = 6800.000, Price prediction = 6433.142, diff = -366.858\nKm = 67000, Price = 6800.000, Price prediction = 7085.877, diff = 285.877\nKm = 76025, Price = 6900.000, Price prediction = 6892.732, diff = -7.268\nKm = 48235, Price = 6900.000, Price prediction = 7487.470, diff = 587.470\nKm = 93000, Price = 6990.000, Price prediction = 6529.447, diff = -460.553\nKm = 60949, Price = 7490.000, Price prediction = 7215.376, diff = -274.624\nKm = 65674, Price = 7555.000, Price prediction = 7114.255, diff = -440.745\nKm = 54000, Price = 7990.000, Price prediction = 7364.092, diff = -625.908\nKm = 68500, Price = 7990.000, Price prediction = 7053.776, diff = -936.224\nKm = 22899, Price = 7990.000, Price prediction = 8029.690, diff = 39.690\nKm = 61789, Price = 8290.000, Price prediction = 7197.399, diff = -1092.601\n"
     ]
    }
   ],
   "source": [
    "from numpy import diff\n",
    "\n",
    "for row in load_csv():\n",
    "    pred_x = row[0]\n",
    "    pred_y = theta0 + theta1 * pred_x\n",
    "    print('Km = %.13g, Price = %.3f, Price prediction = %.3f, diff = %.3f' % (pred_x, row[1], pred_y, diff([row[1], pred_y])))"
   ]
  },
  {
   "cell_type": "code",
   "execution_count": 6,
   "metadata": {},
   "outputs": [
    {
     "output_type": "execute_result",
     "data": {
      "text/plain": [
       "<matplotlib.collections.PathCollection at 0x7fc7abf1e490>"
      ]
     },
     "metadata": {},
     "execution_count": 6
    },
    {
     "output_type": "display_data",
     "data": {
      "text/plain": "<Figure size 432x288 with 1 Axes>",
      "image/svg+xml": "<?xml version=\"1.0\" encoding=\"utf-8\" standalone=\"no\"?>\n<!DOCTYPE svg PUBLIC \"-//W3C//DTD SVG 1.1//EN\"\n  \"http://www.w3.org/Graphics/SVG/1.1/DTD/svg11.dtd\">\n<!-- Created with matplotlib (https://matplotlib.org/) -->\n<svg height=\"248.518125pt\" version=\"1.1\" viewBox=\"0 0 399.538767 248.518125\" width=\"399.538767pt\" xmlns=\"http://www.w3.org/2000/svg\" xmlns:xlink=\"http://www.w3.org/1999/xlink\">\n <metadata>\n  <rdf:RDF xmlns:cc=\"http://creativecommons.org/ns#\" xmlns:dc=\"http://purl.org/dc/elements/1.1/\" xmlns:rdf=\"http://www.w3.org/1999/02/22-rdf-syntax-ns#\">\n   <cc:Work>\n    <dc:type rdf:resource=\"http://purl.org/dc/dcmitype/StillImage\"/>\n    <dc:date>2021-05-07T23:43:56.823728</dc:date>\n    <dc:format>image/svg+xml</dc:format>\n    <dc:creator>\n     <cc:Agent>\n      <dc:title>Matplotlib v3.3.2, https://matplotlib.org/</dc:title>\n     </cc:Agent>\n    </dc:creator>\n   </cc:Work>\n  </rdf:RDF>\n </metadata>\n <defs>\n  <style type=\"text/css\">*{stroke-linecap:butt;stroke-linejoin:round;}</style>\n </defs>\n <g id=\"figure_1\">\n  <g id=\"patch_1\">\n   <path d=\"M -0 248.518125 \nL 399.538767 248.518125 \nL 399.538767 0 \nL -0 0 \nz\n\" style=\"fill:none;\"/>\n  </g>\n  <g id=\"axes_1\">\n   <g id=\"patch_2\">\n    <path d=\"M 39.65 224.64 \nL 374.45 224.64 \nL 374.45 7.2 \nL 39.65 7.2 \nz\n\" style=\"fill:#ffffff;\"/>\n   </g>\n   <g id=\"PathCollection_1\">\n    <defs>\n     <path d=\"M 0 3 \nC 0.795609 3 1.55874 2.683901 2.12132 2.12132 \nC 2.683901 1.55874 3 0.795609 3 0 \nC 3 -0.795609 2.683901 -1.55874 2.12132 -2.12132 \nC 1.55874 -2.683901 0.795609 -3 0 -3 \nC -0.795609 -3 -1.55874 -2.683901 -2.12132 -2.12132 \nC -2.683901 -1.55874 -3 -0.795609 -3 0 \nC -3 0.795609 -2.683901 1.55874 -2.12132 2.12132 \nC -1.55874 2.683901 -0.795609 3 0 3 \nz\n\" id=\"m8226b361d1\" style=\"stroke:#ff0000;\"/>\n    </defs>\n    <g clip-path=\"url(#p5cde04c7e0)\">\n     <use style=\"fill:#ff0000;stroke:#ff0000;\" x=\"233.056779\" xlink:href=\"#m8226b361d1\" y=\"137.15798\"/>\n    </g>\n   </g>\n   <g id=\"matplotlib.axis_1\">\n    <g id=\"xtick_1\">\n     <g id=\"line2d_1\">\n      <path clip-path=\"url(#p5cde04c7e0)\" d=\"M 92.86229 224.64 \nL 92.86229 7.2 \n\" style=\"fill:none;stroke:#b0b0b0;stroke-linecap:square;stroke-width:0.8;\"/>\n     </g>\n     <g id=\"line2d_2\">\n      <defs>\n       <path d=\"M 0 0 \nL 0 3.5 \n\" id=\"mfd6d3fb3bb\" style=\"stroke:#000000;stroke-width:0.8;\"/>\n      </defs>\n      <g>\n       <use style=\"stroke:#000000;stroke-width:0.8;\" x=\"92.86229\" xlink:href=\"#mfd6d3fb3bb\" y=\"224.64\"/>\n      </g>\n     </g>\n     <g id=\"text_1\">\n      <!-- 50000 -->\n      <g transform=\"translate(76.95604 239.238438)scale(0.1 -0.1)\">\n       <defs>\n        <path d=\"M 10.796875 72.90625 \nL 49.515625 72.90625 \nL 49.515625 64.59375 \nL 19.828125 64.59375 \nL 19.828125 46.734375 \nQ 21.96875 47.46875 24.109375 47.828125 \nQ 26.265625 48.1875 28.421875 48.1875 \nQ 40.625 48.1875 47.75 41.5 \nQ 54.890625 34.8125 54.890625 23.390625 \nQ 54.890625 11.625 47.5625 5.09375 \nQ 40.234375 -1.421875 26.90625 -1.421875 \nQ 22.3125 -1.421875 17.546875 -0.640625 \nQ 12.796875 0.140625 7.71875 1.703125 \nL 7.71875 11.625 \nQ 12.109375 9.234375 16.796875 8.0625 \nQ 21.484375 6.890625 26.703125 6.890625 \nQ 35.15625 6.890625 40.078125 11.328125 \nQ 45.015625 15.765625 45.015625 23.390625 \nQ 45.015625 31 40.078125 35.4375 \nQ 35.15625 39.890625 26.703125 39.890625 \nQ 22.75 39.890625 18.8125 39.015625 \nQ 14.890625 38.140625 10.796875 36.28125 \nz\n\" id=\"DejaVuSans-53\"/>\n        <path d=\"M 31.78125 66.40625 \nQ 24.171875 66.40625 20.328125 58.90625 \nQ 16.5 51.421875 16.5 36.375 \nQ 16.5 21.390625 20.328125 13.890625 \nQ 24.171875 6.390625 31.78125 6.390625 \nQ 39.453125 6.390625 43.28125 13.890625 \nQ 47.125 21.390625 47.125 36.375 \nQ 47.125 51.421875 43.28125 58.90625 \nQ 39.453125 66.40625 31.78125 66.40625 \nz\nM 31.78125 74.21875 \nQ 44.046875 74.21875 50.515625 64.515625 \nQ 56.984375 54.828125 56.984375 36.375 \nQ 56.984375 17.96875 50.515625 8.265625 \nQ 44.046875 -1.421875 31.78125 -1.421875 \nQ 19.53125 -1.421875 13.0625 8.265625 \nQ 6.59375 17.96875 6.59375 36.375 \nQ 6.59375 54.828125 13.0625 64.515625 \nQ 19.53125 74.21875 31.78125 74.21875 \nz\n\" id=\"DejaVuSans-48\"/>\n       </defs>\n       <use xlink:href=\"#DejaVuSans-53\"/>\n       <use x=\"63.623047\" xlink:href=\"#DejaVuSans-48\"/>\n       <use x=\"127.246094\" xlink:href=\"#DejaVuSans-48\"/>\n       <use x=\"190.869141\" xlink:href=\"#DejaVuSans-48\"/>\n       <use x=\"254.492188\" xlink:href=\"#DejaVuSans-48\"/>\n      </g>\n     </g>\n    </g>\n    <g id=\"xtick_2\">\n     <g id=\"line2d_3\">\n      <path clip-path=\"url(#p5cde04c7e0)\" d=\"M 162.959534 224.64 \nL 162.959534 7.2 \n\" style=\"fill:none;stroke:#b0b0b0;stroke-linecap:square;stroke-width:0.8;\"/>\n     </g>\n     <g id=\"line2d_4\">\n      <g>\n       <use style=\"stroke:#000000;stroke-width:0.8;\" x=\"162.959534\" xlink:href=\"#mfd6d3fb3bb\" y=\"224.64\"/>\n      </g>\n     </g>\n     <g id=\"text_2\">\n      <!-- 100000 -->\n      <g transform=\"translate(143.872034 239.238438)scale(0.1 -0.1)\">\n       <defs>\n        <path d=\"M 12.40625 8.296875 \nL 28.515625 8.296875 \nL 28.515625 63.921875 \nL 10.984375 60.40625 \nL 10.984375 69.390625 \nL 28.421875 72.90625 \nL 38.28125 72.90625 \nL 38.28125 8.296875 \nL 54.390625 8.296875 \nL 54.390625 0 \nL 12.40625 0 \nz\n\" id=\"DejaVuSans-49\"/>\n       </defs>\n       <use xlink:href=\"#DejaVuSans-49\"/>\n       <use x=\"63.623047\" xlink:href=\"#DejaVuSans-48\"/>\n       <use x=\"127.246094\" xlink:href=\"#DejaVuSans-48\"/>\n       <use x=\"190.869141\" xlink:href=\"#DejaVuSans-48\"/>\n       <use x=\"254.492188\" xlink:href=\"#DejaVuSans-48\"/>\n       <use x=\"318.115234\" xlink:href=\"#DejaVuSans-48\"/>\n      </g>\n     </g>\n    </g>\n    <g id=\"xtick_3\">\n     <g id=\"line2d_5\">\n      <path clip-path=\"url(#p5cde04c7e0)\" d=\"M 233.056779 224.64 \nL 233.056779 7.2 \n\" style=\"fill:none;stroke:#b0b0b0;stroke-linecap:square;stroke-width:0.8;\"/>\n     </g>\n     <g id=\"line2d_6\">\n      <g>\n       <use style=\"stroke:#000000;stroke-width:0.8;\" x=\"233.056779\" xlink:href=\"#mfd6d3fb3bb\" y=\"224.64\"/>\n      </g>\n     </g>\n     <g id=\"text_3\">\n      <!-- 150000 -->\n      <g transform=\"translate(213.969279 239.238438)scale(0.1 -0.1)\">\n       <use xlink:href=\"#DejaVuSans-49\"/>\n       <use x=\"63.623047\" xlink:href=\"#DejaVuSans-53\"/>\n       <use x=\"127.246094\" xlink:href=\"#DejaVuSans-48\"/>\n       <use x=\"190.869141\" xlink:href=\"#DejaVuSans-48\"/>\n       <use x=\"254.492188\" xlink:href=\"#DejaVuSans-48\"/>\n       <use x=\"318.115234\" xlink:href=\"#DejaVuSans-48\"/>\n      </g>\n     </g>\n    </g>\n    <g id=\"xtick_4\">\n     <g id=\"line2d_7\">\n      <path clip-path=\"url(#p5cde04c7e0)\" d=\"M 303.154023 224.64 \nL 303.154023 7.2 \n\" style=\"fill:none;stroke:#b0b0b0;stroke-linecap:square;stroke-width:0.8;\"/>\n     </g>\n     <g id=\"line2d_8\">\n      <g>\n       <use style=\"stroke:#000000;stroke-width:0.8;\" x=\"303.154023\" xlink:href=\"#mfd6d3fb3bb\" y=\"224.64\"/>\n      </g>\n     </g>\n     <g id=\"text_4\">\n      <!-- 200000 -->\n      <g transform=\"translate(284.066523 239.238438)scale(0.1 -0.1)\">\n       <defs>\n        <path d=\"M 19.1875 8.296875 \nL 53.609375 8.296875 \nL 53.609375 0 \nL 7.328125 0 \nL 7.328125 8.296875 \nQ 12.9375 14.109375 22.625 23.890625 \nQ 32.328125 33.6875 34.8125 36.53125 \nQ 39.546875 41.84375 41.421875 45.53125 \nQ 43.3125 49.21875 43.3125 52.78125 \nQ 43.3125 58.59375 39.234375 62.25 \nQ 35.15625 65.921875 28.609375 65.921875 \nQ 23.96875 65.921875 18.8125 64.3125 \nQ 13.671875 62.703125 7.8125 59.421875 \nL 7.8125 69.390625 \nQ 13.765625 71.78125 18.9375 73 \nQ 24.125 74.21875 28.421875 74.21875 \nQ 39.75 74.21875 46.484375 68.546875 \nQ 53.21875 62.890625 53.21875 53.421875 \nQ 53.21875 48.921875 51.53125 44.890625 \nQ 49.859375 40.875 45.40625 35.40625 \nQ 44.1875 33.984375 37.640625 27.21875 \nQ 31.109375 20.453125 19.1875 8.296875 \nz\n\" id=\"DejaVuSans-50\"/>\n       </defs>\n       <use xlink:href=\"#DejaVuSans-50\"/>\n       <use x=\"63.623047\" xlink:href=\"#DejaVuSans-48\"/>\n       <use x=\"127.246094\" xlink:href=\"#DejaVuSans-48\"/>\n       <use x=\"190.869141\" xlink:href=\"#DejaVuSans-48\"/>\n       <use x=\"254.492188\" xlink:href=\"#DejaVuSans-48\"/>\n       <use x=\"318.115234\" xlink:href=\"#DejaVuSans-48\"/>\n      </g>\n     </g>\n    </g>\n    <g id=\"xtick_5\">\n     <g id=\"line2d_9\">\n      <path clip-path=\"url(#p5cde04c7e0)\" d=\"M 373.251267 224.64 \nL 373.251267 7.2 \n\" style=\"fill:none;stroke:#b0b0b0;stroke-linecap:square;stroke-width:0.8;\"/>\n     </g>\n     <g id=\"line2d_10\">\n      <g>\n       <use style=\"stroke:#000000;stroke-width:0.8;\" x=\"373.251267\" xlink:href=\"#mfd6d3fb3bb\" y=\"224.64\"/>\n      </g>\n     </g>\n     <g id=\"text_5\">\n      <!-- 250000 -->\n      <g transform=\"translate(354.163767 239.238438)scale(0.1 -0.1)\">\n       <use xlink:href=\"#DejaVuSans-50\"/>\n       <use x=\"63.623047\" xlink:href=\"#DejaVuSans-53\"/>\n       <use x=\"127.246094\" xlink:href=\"#DejaVuSans-48\"/>\n       <use x=\"190.869141\" xlink:href=\"#DejaVuSans-48\"/>\n       <use x=\"254.492188\" xlink:href=\"#DejaVuSans-48\"/>\n       <use x=\"318.115234\" xlink:href=\"#DejaVuSans-48\"/>\n      </g>\n     </g>\n    </g>\n   </g>\n   <g id=\"matplotlib.axis_2\">\n    <g id=\"ytick_1\">\n     <g id=\"line2d_11\">\n      <path clip-path=\"url(#p5cde04c7e0)\" d=\"M 39.65 189.918073 \nL 374.45 189.918073 \n\" style=\"fill:none;stroke:#b0b0b0;stroke-linecap:square;stroke-width:0.8;\"/>\n     </g>\n     <g id=\"line2d_12\">\n      <defs>\n       <path d=\"M 0 0 \nL -3.5 0 \n\" id=\"md29832d190\" style=\"stroke:#000000;stroke-width:0.8;\"/>\n      </defs>\n      <g>\n       <use style=\"stroke:#000000;stroke-width:0.8;\" x=\"39.65\" xlink:href=\"#md29832d190\" y=\"189.918073\"/>\n      </g>\n     </g>\n     <g id=\"text_6\">\n      <!-- 4000 -->\n      <g transform=\"translate(7.2 193.717292)scale(0.1 -0.1)\">\n       <defs>\n        <path d=\"M 37.796875 64.3125 \nL 12.890625 25.390625 \nL 37.796875 25.390625 \nz\nM 35.203125 72.90625 \nL 47.609375 72.90625 \nL 47.609375 25.390625 \nL 58.015625 25.390625 \nL 58.015625 17.1875 \nL 47.609375 17.1875 \nL 47.609375 0 \nL 37.796875 0 \nL 37.796875 17.1875 \nL 4.890625 17.1875 \nL 4.890625 26.703125 \nz\n\" id=\"DejaVuSans-52\"/>\n       </defs>\n       <use xlink:href=\"#DejaVuSans-52\"/>\n       <use x=\"63.623047\" xlink:href=\"#DejaVuSans-48\"/>\n       <use x=\"127.246094\" xlink:href=\"#DejaVuSans-48\"/>\n       <use x=\"190.869141\" xlink:href=\"#DejaVuSans-48\"/>\n      </g>\n     </g>\n    </g>\n    <g id=\"ytick_2\">\n     <g id=\"line2d_13\">\n      <path clip-path=\"url(#p5cde04c7e0)\" d=\"M 39.65 149.630325 \nL 374.45 149.630325 \n\" style=\"fill:none;stroke:#b0b0b0;stroke-linecap:square;stroke-width:0.8;\"/>\n     </g>\n     <g id=\"line2d_14\">\n      <g>\n       <use style=\"stroke:#000000;stroke-width:0.8;\" x=\"39.65\" xlink:href=\"#md29832d190\" y=\"149.630325\"/>\n      </g>\n     </g>\n     <g id=\"text_7\">\n      <!-- 5000 -->\n      <g transform=\"translate(7.2 153.429544)scale(0.1 -0.1)\">\n       <use xlink:href=\"#DejaVuSans-53\"/>\n       <use x=\"63.623047\" xlink:href=\"#DejaVuSans-48\"/>\n       <use x=\"127.246094\" xlink:href=\"#DejaVuSans-48\"/>\n       <use x=\"190.869141\" xlink:href=\"#DejaVuSans-48\"/>\n      </g>\n     </g>\n    </g>\n    <g id=\"ytick_3\">\n     <g id=\"line2d_15\">\n      <path clip-path=\"url(#p5cde04c7e0)\" d=\"M 39.65 109.342578 \nL 374.45 109.342578 \n\" style=\"fill:none;stroke:#b0b0b0;stroke-linecap:square;stroke-width:0.8;\"/>\n     </g>\n     <g id=\"line2d_16\">\n      <g>\n       <use style=\"stroke:#000000;stroke-width:0.8;\" x=\"39.65\" xlink:href=\"#md29832d190\" y=\"109.342578\"/>\n      </g>\n     </g>\n     <g id=\"text_8\">\n      <!-- 6000 -->\n      <g transform=\"translate(7.2 113.141797)scale(0.1 -0.1)\">\n       <defs>\n        <path d=\"M 33.015625 40.375 \nQ 26.375 40.375 22.484375 35.828125 \nQ 18.609375 31.296875 18.609375 23.390625 \nQ 18.609375 15.53125 22.484375 10.953125 \nQ 26.375 6.390625 33.015625 6.390625 \nQ 39.65625 6.390625 43.53125 10.953125 \nQ 47.40625 15.53125 47.40625 23.390625 \nQ 47.40625 31.296875 43.53125 35.828125 \nQ 39.65625 40.375 33.015625 40.375 \nz\nM 52.59375 71.296875 \nL 52.59375 62.3125 \nQ 48.875 64.0625 45.09375 64.984375 \nQ 41.3125 65.921875 37.59375 65.921875 \nQ 27.828125 65.921875 22.671875 59.328125 \nQ 17.53125 52.734375 16.796875 39.40625 \nQ 19.671875 43.65625 24.015625 45.921875 \nQ 28.375 48.1875 33.59375 48.1875 \nQ 44.578125 48.1875 50.953125 41.515625 \nQ 57.328125 34.859375 57.328125 23.390625 \nQ 57.328125 12.15625 50.6875 5.359375 \nQ 44.046875 -1.421875 33.015625 -1.421875 \nQ 20.359375 -1.421875 13.671875 8.265625 \nQ 6.984375 17.96875 6.984375 36.375 \nQ 6.984375 53.65625 15.1875 63.9375 \nQ 23.390625 74.21875 37.203125 74.21875 \nQ 40.921875 74.21875 44.703125 73.484375 \nQ 48.484375 72.75 52.59375 71.296875 \nz\n\" id=\"DejaVuSans-54\"/>\n       </defs>\n       <use xlink:href=\"#DejaVuSans-54\"/>\n       <use x=\"63.623047\" xlink:href=\"#DejaVuSans-48\"/>\n       <use x=\"127.246094\" xlink:href=\"#DejaVuSans-48\"/>\n       <use x=\"190.869141\" xlink:href=\"#DejaVuSans-48\"/>\n      </g>\n     </g>\n    </g>\n    <g id=\"ytick_4\">\n     <g id=\"line2d_17\">\n      <path clip-path=\"url(#p5cde04c7e0)\" d=\"M 39.65 69.054831 \nL 374.45 69.054831 \n\" style=\"fill:none;stroke:#b0b0b0;stroke-linecap:square;stroke-width:0.8;\"/>\n     </g>\n     <g id=\"line2d_18\">\n      <g>\n       <use style=\"stroke:#000000;stroke-width:0.8;\" x=\"39.65\" xlink:href=\"#md29832d190\" y=\"69.054831\"/>\n      </g>\n     </g>\n     <g id=\"text_9\">\n      <!-- 7000 -->\n      <g transform=\"translate(7.2 72.854049)scale(0.1 -0.1)\">\n       <defs>\n        <path d=\"M 8.203125 72.90625 \nL 55.078125 72.90625 \nL 55.078125 68.703125 \nL 28.609375 0 \nL 18.3125 0 \nL 43.21875 64.59375 \nL 8.203125 64.59375 \nz\n\" id=\"DejaVuSans-55\"/>\n       </defs>\n       <use xlink:href=\"#DejaVuSans-55\"/>\n       <use x=\"63.623047\" xlink:href=\"#DejaVuSans-48\"/>\n       <use x=\"127.246094\" xlink:href=\"#DejaVuSans-48\"/>\n       <use x=\"190.869141\" xlink:href=\"#DejaVuSans-48\"/>\n      </g>\n     </g>\n    </g>\n    <g id=\"ytick_5\">\n     <g id=\"line2d_19\">\n      <path clip-path=\"url(#p5cde04c7e0)\" d=\"M 39.65 28.767083 \nL 374.45 28.767083 \n\" style=\"fill:none;stroke:#b0b0b0;stroke-linecap:square;stroke-width:0.8;\"/>\n     </g>\n     <g id=\"line2d_20\">\n      <g>\n       <use style=\"stroke:#000000;stroke-width:0.8;\" x=\"39.65\" xlink:href=\"#md29832d190\" y=\"28.767083\"/>\n      </g>\n     </g>\n     <g id=\"text_10\">\n      <!-- 8000 -->\n      <g transform=\"translate(7.2 32.566302)scale(0.1 -0.1)\">\n       <defs>\n        <path d=\"M 31.78125 34.625 \nQ 24.75 34.625 20.71875 30.859375 \nQ 16.703125 27.09375 16.703125 20.515625 \nQ 16.703125 13.921875 20.71875 10.15625 \nQ 24.75 6.390625 31.78125 6.390625 \nQ 38.8125 6.390625 42.859375 10.171875 \nQ 46.921875 13.96875 46.921875 20.515625 \nQ 46.921875 27.09375 42.890625 30.859375 \nQ 38.875 34.625 31.78125 34.625 \nz\nM 21.921875 38.8125 \nQ 15.578125 40.375 12.03125 44.71875 \nQ 8.5 49.078125 8.5 55.328125 \nQ 8.5 64.0625 14.71875 69.140625 \nQ 20.953125 74.21875 31.78125 74.21875 \nQ 42.671875 74.21875 48.875 69.140625 \nQ 55.078125 64.0625 55.078125 55.328125 \nQ 55.078125 49.078125 51.53125 44.71875 \nQ 48 40.375 41.703125 38.8125 \nQ 48.828125 37.15625 52.796875 32.3125 \nQ 56.78125 27.484375 56.78125 20.515625 \nQ 56.78125 9.90625 50.3125 4.234375 \nQ 43.84375 -1.421875 31.78125 -1.421875 \nQ 19.734375 -1.421875 13.25 4.234375 \nQ 6.78125 9.90625 6.78125 20.515625 \nQ 6.78125 27.484375 10.78125 32.3125 \nQ 14.796875 37.15625 21.921875 38.8125 \nz\nM 18.3125 54.390625 \nQ 18.3125 48.734375 21.84375 45.5625 \nQ 25.390625 42.390625 31.78125 42.390625 \nQ 38.140625 42.390625 41.71875 45.5625 \nQ 45.3125 48.734375 45.3125 54.390625 \nQ 45.3125 60.0625 41.71875 63.234375 \nQ 38.140625 66.40625 31.78125 66.40625 \nQ 25.390625 66.40625 21.84375 63.234375 \nQ 18.3125 60.0625 18.3125 54.390625 \nz\n\" id=\"DejaVuSans-56\"/>\n       </defs>\n       <use xlink:href=\"#DejaVuSans-56\"/>\n       <use x=\"63.623047\" xlink:href=\"#DejaVuSans-48\"/>\n       <use x=\"127.246094\" xlink:href=\"#DejaVuSans-48\"/>\n       <use x=\"190.869141\" xlink:href=\"#DejaVuSans-48\"/>\n      </g>\n     </g>\n    </g>\n   </g>\n   <g id=\"line2d_21\">\n    <defs>\n     <path d=\"M 0 3 \nC 0.795609 3 1.55874 2.683901 2.12132 2.12132 \nC 2.683901 1.55874 3 0.795609 3 0 \nC 3 -0.795609 2.683901 -1.55874 2.12132 -2.12132 \nC 1.55874 -2.683901 0.795609 -3 0 -3 \nC -0.795609 -3 -1.55874 -2.683901 -2.12132 -2.12132 \nC -2.683901 -1.55874 -3 -0.795609 -3 0 \nC -3 0.795609 -2.683901 1.55874 -2.12132 2.12132 \nC -1.55874 2.683901 -0.795609 3 0 3 \nz\n\" id=\"m23a7af6278\" style=\"stroke:#bfbf00;\"/>\n    </defs>\n    <g clip-path=\"url(#p5cde04c7e0)\">\n     <use style=\"fill:#bfbf00;stroke:#bfbf00;\" x=\"359.231818\" xlink:href=\"#m23a7af6278\" y=\"204.018784\"/>\n     <use style=\"fill:#bfbf00;stroke:#bfbf00;\" x=\"218.756941\" xlink:href=\"#m23a7af6278\" y=\"197.975622\"/>\n     <use style=\"fill:#bfbf00;stroke:#bfbf00;\" x=\"233.757751\" xlink:href=\"#m23a7af6278\" y=\"173.802974\"/>\n     <use style=\"fill:#bfbf00;stroke:#bfbf00;\" x=\"282.86788\" xlink:href=\"#m23a7af6278\" y=\"171.788586\"/>\n     <use style=\"fill:#bfbf00;stroke:#bfbf00;\" x=\"269.507346\" xlink:href=\"#m23a7af6278\" y=\"139.558388\"/>\n     <use style=\"fill:#bfbf00;stroke:#bfbf00;\" x=\"183.708319\" xlink:href=\"#m23a7af6278\" y=\"135.529614\"/>\n     <use style=\"fill:#bfbf00;stroke:#bfbf00;\" x=\"256.609453\" xlink:href=\"#m23a7af6278\" y=\"117.400127\"/>\n     <use style=\"fill:#bfbf00;stroke:#bfbf00;\" x=\"147.538141\" xlink:href=\"#m23a7af6278\" y=\"109.745455\"/>\n     <use style=\"fill:#bfbf00;stroke:#bfbf00;\" x=\"225.346082\" xlink:href=\"#m23a7af6278\" y=\"109.382866\"/>\n     <use style=\"fill:#bfbf00;stroke:#bfbf00;\" x=\"140.528416\" xlink:href=\"#m23a7af6278\" y=\"101.285028\"/>\n     <use style=\"fill:#bfbf00;stroke:#bfbf00;\" x=\"137.765183\" xlink:href=\"#m23a7af6278\" y=\"93.630356\"/>\n     <use style=\"fill:#bfbf00;stroke:#bfbf00;\" x=\"111.17169\" xlink:href=\"#m23a7af6278\" y=\"93.630356\"/>\n     <use style=\"fill:#bfbf00;stroke:#bfbf00;\" x=\"126.508967\" xlink:href=\"#m23a7af6278\" y=\"85.169929\"/>\n     <use style=\"fill:#bfbf00;stroke:#bfbf00;\" x=\"159.454672\" xlink:href=\"#m23a7af6278\" y=\"77.11238\"/>\n     <use style=\"fill:#bfbf00;stroke:#bfbf00;\" x=\"116.695353\" xlink:href=\"#m23a7af6278\" y=\"77.11238\"/>\n     <use style=\"fill:#bfbf00;stroke:#bfbf00;\" x=\"129.347906\" xlink:href=\"#m23a7af6278\" y=\"73.083605\"/>\n     <use style=\"fill:#bfbf00;stroke:#bfbf00;\" x=\"90.387857\" xlink:href=\"#m23a7af6278\" y=\"73.083605\"/>\n     <use style=\"fill:#bfbf00;stroke:#bfbf00;\" x=\"153.14592\" xlink:href=\"#m23a7af6278\" y=\"69.457708\"/>\n     <use style=\"fill:#bfbf00;stroke:#bfbf00;\" x=\"108.212185\" xlink:href=\"#m23a7af6278\" y=\"49.313834\"/>\n     <use style=\"fill:#bfbf00;stroke:#bfbf00;\" x=\"114.836374\" xlink:href=\"#m23a7af6278\" y=\"46.695131\"/>\n     <use style=\"fill:#bfbf00;stroke:#bfbf00;\" x=\"98.47007\" xlink:href=\"#m23a7af6278\" y=\"29.169961\"/>\n     <use style=\"fill:#bfbf00;stroke:#bfbf00;\" x=\"118.79827\" xlink:href=\"#m23a7af6278\" y=\"29.169961\"/>\n     <use style=\"fill:#bfbf00;stroke:#bfbf00;\" x=\"54.868182\" xlink:href=\"#m23a7af6278\" y=\"29.169961\"/>\n     <use style=\"fill:#bfbf00;stroke:#bfbf00;\" x=\"109.389818\" xlink:href=\"#m23a7af6278\" y=\"17.083636\"/>\n    </g>\n   </g>\n   <g id=\"line2d_22\">\n    <path clip-path=\"url(#p5cde04c7e0)\" d=\"M 359.231818 214.756364 \nL 218.756941 128.363497 \nL 233.757751 137.589082 \nL 282.86788 167.792098 \nL 269.507346 159.575291 \nL 183.708319 106.80839 \nL 256.609453 151.643012 \nL 147.538141 84.56352 \nL 225.346082 132.415857 \nL 140.528416 80.252499 \nL 137.765183 78.553094 \nL 111.17169 62.197942 \nL 126.508967 71.630456 \nL 159.454672 91.892256 \nL 116.695353 65.595026 \nL 129.347906 73.37642 \nL 90.387857 49.415763 \nL 153.14592 88.012337 \nL 108.212185 60.377828 \nL 114.836374 64.451744 \nL 98.47007 54.386371 \nL 118.79827 66.888333 \nL 54.868182 27.570956 \nL 109.389818 61.10208 \n\" style=\"fill:none;stroke:#000000;stroke-dasharray:5.55,2.4;stroke-dashoffset:0;stroke-width:1.5;\"/>\n   </g>\n   <g id=\"patch_3\">\n    <path d=\"M 39.65 224.64 \nL 39.65 7.2 \n\" style=\"fill:none;stroke:#000000;stroke-linecap:square;stroke-linejoin:miter;stroke-width:0.8;\"/>\n   </g>\n   <g id=\"patch_4\">\n    <path d=\"M 374.45 224.64 \nL 374.45 7.2 \n\" style=\"fill:none;stroke:#000000;stroke-linecap:square;stroke-linejoin:miter;stroke-width:0.8;\"/>\n   </g>\n   <g id=\"patch_5\">\n    <path d=\"M 39.65 224.64 \nL 374.45 224.64 \n\" style=\"fill:none;stroke:#000000;stroke-linecap:square;stroke-linejoin:miter;stroke-width:0.8;\"/>\n   </g>\n   <g id=\"patch_6\">\n    <path d=\"M 39.65 7.2 \nL 374.45 7.2 \n\" style=\"fill:none;stroke:#000000;stroke-linecap:square;stroke-linejoin:miter;stroke-width:0.8;\"/>\n   </g>\n  </g>\n </g>\n <defs>\n  <clipPath id=\"p5cde04c7e0\">\n   <rect height=\"217.44\" width=\"334.8\" x=\"39.65\" y=\"7.2\"/>\n  </clipPath>\n </defs>\n</svg>\n",
      "image/png": "[encoded data removed]"
     },
     "metadata": {
      "needs_background": "light"
     }
    }
   ],
   "source": [
    "import matplotlib.pyplot as plt\n",
    "from pandas import DataFrame\n",
    "%matplotlib inline\n",
    "\n",
    "df = DataFrame(load_csv())\n",
    "plt.grid(True)\n",
    "plt.plot(df[0], df[1], 'yo', df[0], theta1*df[0]+theta0, '--k')\n",
    "plt.scatter(x_pred, y_pred, color='red')"
   ]
  },
  {
   "cell_type": "code",
   "execution_count": null,
   "metadata": {},
   "outputs": [],
   "source": []
  }
 ]
}